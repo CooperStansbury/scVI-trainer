{
 "cells": [
  {
   "cell_type": "code",
   "execution_count": 1,
   "id": "a8cc2c76-76f3-4d12-ae1d-cc6293aa3336",
   "metadata": {},
   "outputs": [],
   "source": [
    "import os\n",
    "import sys\n",
    "import pandas as pd\n",
    "import numpy as np\n",
    "import matplotlib.pyplot as plt\n",
    "from mpl_toolkits.axes_grid1 import make_axes_locatable, axes_size\n",
    "import matplotlib.colors as mcolors\n",
    "from matplotlib.transforms import Bbox\n",
    "from matplotlib.colors import to_rgba\n",
    "from matplotlib.colors import LinearSegmentedColormap\n",
    "import seaborn as sns\n",
    "import scvi\n",
    "import scanpy as sc\n",
    "import anndata as an\n",
    "import scanpy.external as sce\n",
    "import scipy\n",
    "import scipy.sparse as sp\n",
    "import time\n",
    "import sklearn\n",
    "import torch\n",
    "from scipy.sparse import csr_matrix\n",
    "\n",
    "from importlib import reload\n",
    "\n",
    "import ray\n",
    "from ray import tune\n",
    "from scvi import autotune"
   ]
  },
  {
   "cell_type": "code",
   "execution_count": 2,
   "id": "17bb02ec-c5fb-44a1-a07f-c62528f9fd77",
   "metadata": {},
   "outputs": [
    {
     "name": "stdout",
     "output_type": "stream",
     "text": [
      "Memory usage: current 6.01 GB, difference +6.01 GB\n",
      "AnnData object with n_obs × n_vars = 89821 × 17397\n",
      "    obs: 'n_genes', 'dataset', 'n_genes_by_counts', 'total_counts', 'obs_index', 'cell_type', 'standard_cell_type', 'cell_label', 'batch'\n",
      "    layers: 'counts'\n"
     ]
    }
   ],
   "source": [
    "fpath = \"/scratch/indikar_root/indikar1/shared_data/sc_HSC/SCANVI/full_data.h5ad\"\n",
    "adata = sc.read_h5ad(fpath)\n",
    "adata.X = adata.layers['counts'].copy()\n",
    "sc.logging.print_memory_usage()\n",
    "print(adata)"
   ]
  },
  {
   "cell_type": "code",
   "execution_count": 3,
   "id": "2988a8e1-068d-47e5-b5df-e59cbf9196e1",
   "metadata": {},
   "outputs": [
    {
     "data": {
      "text/plain": [
       "AnnData object with n_obs × n_vars = 81442 × 17397\n",
       "    obs: 'n_genes', 'dataset', 'n_genes_by_counts', 'total_counts', 'obs_index', 'cell_type', 'standard_cell_type', 'cell_label', 'batch'\n",
       "    layers: 'counts'"
      ]
     },
     "execution_count": 3,
     "metadata": {},
     "output_type": "execute_result"
    }
   ],
   "source": [
    "rdata = adata[adata.obs['batch'] == \"0\", :].copy()\n",
    "qdata = adata[adata.obs['batch'] == \"1\", :].copy()\n",
    "\n",
    "rdata"
   ]
  },
  {
   "cell_type": "code",
   "execution_count": 4,
   "id": "280adb29-8194-43e1-a555-387ea9be5ab8",
   "metadata": {},
   "outputs": [
    {
     "data": {
      "text/plain": [
       "AnnData object with n_obs × n_vars = 81442 × 2000\n",
       "    obs: 'n_genes', 'dataset', 'n_genes_by_counts', 'total_counts', 'obs_index', 'cell_type', 'standard_cell_type', 'cell_label', 'batch'\n",
       "    var: 'highly_variable', 'highly_variable_rank', 'means', 'variances', 'variances_norm'\n",
       "    uns: 'hvg'\n",
       "    layers: 'counts'"
      ]
     },
     "execution_count": 4,
     "metadata": {},
     "output_type": "execute_result"
    }
   ],
   "source": [
    "sc.pp.highly_variable_genes(rdata, n_top_genes=2000, flavor=\"seurat_v3\", subset=True)\n",
    "rdata"
   ]
  },
  {
   "cell_type": "code",
   "execution_count": 5,
   "id": "6d0c032d-c77c-4b7a-b6f8-d70d797c7ba1",
   "metadata": {},
   "outputs": [
    {
     "data": {
      "text/html": [
       "<pre style=\"white-space:pre;overflow-x:auto;line-height:normal;font-family:Menlo,'DejaVu Sans Mono',consolas,'Courier New',monospace\">SCVI model with the following parameters: \n",
       "n_hidden: <span style=\"color: #008080; text-decoration-color: #008080; font-weight: bold\">64</span>, n_latent: <span style=\"color: #008080; text-decoration-color: #008080; font-weight: bold\">10</span>, n_layers: <span style=\"color: #008080; text-decoration-color: #008080; font-weight: bold\">2</span>, dropout_rate: <span style=\"color: #008080; text-decoration-color: #008080; font-weight: bold\">0.25</span>, dispersion: gene, gene_likelihood: zinb, \n",
       "latent_distribution: normal.\n",
       "Training status: Not Trained\n",
       "Model's adata is minified?: <span style=\"color: #ff0000; text-decoration-color: #ff0000; font-style: italic\">False</span>\n",
       "</pre>\n"
      ],
      "text/plain": [
       "SCVI model with the following parameters: \n",
       "n_hidden: \u001b[1;36m64\u001b[0m, n_latent: \u001b[1;36m10\u001b[0m, n_layers: \u001b[1;36m2\u001b[0m, dropout_rate: \u001b[1;36m0.25\u001b[0m, dispersion: gene, gene_likelihood: zinb, \n",
       "latent_distribution: normal.\n",
       "Training status: Not Trained\n",
       "Model's adata is minified?: \u001b[3;91mFalse\u001b[0m\n"
      ]
     },
     "metadata": {},
     "output_type": "display_data"
    },
    {
     "data": {
      "text/plain": []
     },
     "execution_count": 5,
     "metadata": {},
     "output_type": "execute_result"
    }
   ],
   "source": [
    "scvi.model.SCVI.setup_anndata(\n",
    "  adata, \n",
    "  batch_key='dataset', \n",
    "  layer='counts', \n",
    "  labels_key='cell_label'\n",
    ")\n",
    "\n",
    "torch.cuda.empty_cache()\n",
    "\n",
    "scvi.model.SCVI.setup_anndata(\n",
    "  adata, \n",
    "  batch_key='dataset', \n",
    "  layer='counts', \n",
    "  labels_key='cell_label'\n",
    ")\n",
    "\n",
    "torch.cuda.empty_cache()\n",
    "\n",
    "model = scvi.model.SCVI(\n",
    "  adata,\n",
    "  use_layer_norm=\"both\",\n",
    "  use_batch_norm=\"none\",\n",
    "  n_latent=10,\n",
    "  n_hidden=64,\n",
    "  encode_covariates=True,\n",
    "  dropout_rate=0.25,\n",
    "  n_layers=2,\n",
    ")\n",
    "\n",
    "model\n",
    "\n",
    "\n"
   ]
  },
  {
   "cell_type": "code",
   "execution_count": 9,
   "id": "01e25cf4-e9fc-4be1-909b-5e12620ffec8",
   "metadata": {},
   "outputs": [
    {
     "data": {
      "text/plain": [
       "\u001b[0;31mInit signature:\u001b[0m\n",
       "\u001b[0mscvi\u001b[0m\u001b[0;34m.\u001b[0m\u001b[0mtrain\u001b[0m\u001b[0;34m.\u001b[0m\u001b[0mSaveCheckpoint\u001b[0m\u001b[0;34m(\u001b[0m\u001b[0;34m\u001b[0m\n",
       "\u001b[0;34m\u001b[0m    \u001b[0mdirpath\u001b[0m\u001b[0;34m:\u001b[0m \u001b[0;34m'str | None'\u001b[0m \u001b[0;34m=\u001b[0m \u001b[0;32mNone\u001b[0m\u001b[0;34m,\u001b[0m\u001b[0;34m\u001b[0m\n",
       "\u001b[0;34m\u001b[0m    \u001b[0mfilename\u001b[0m\u001b[0;34m:\u001b[0m \u001b[0;34m'str | None'\u001b[0m \u001b[0;34m=\u001b[0m \u001b[0;32mNone\u001b[0m\u001b[0;34m,\u001b[0m\u001b[0;34m\u001b[0m\n",
       "\u001b[0;34m\u001b[0m    \u001b[0mmonitor\u001b[0m\u001b[0;34m:\u001b[0m \u001b[0;34m'str'\u001b[0m \u001b[0;34m=\u001b[0m \u001b[0;34m'validation_loss'\u001b[0m\u001b[0;34m,\u001b[0m\u001b[0;34m\u001b[0m\n",
       "\u001b[0;34m\u001b[0m    \u001b[0mload_best_on_end\u001b[0m\u001b[0;34m:\u001b[0m \u001b[0;34m'bool'\u001b[0m \u001b[0;34m=\u001b[0m \u001b[0;32mFalse\u001b[0m\u001b[0;34m,\u001b[0m\u001b[0;34m\u001b[0m\n",
       "\u001b[0;34m\u001b[0m    \u001b[0;34m**\u001b[0m\u001b[0mkwargs\u001b[0m\u001b[0;34m,\u001b[0m\u001b[0;34m\u001b[0m\n",
       "\u001b[0;34m\u001b[0m\u001b[0;34m)\u001b[0m\u001b[0;34m\u001b[0m\u001b[0;34m\u001b[0m\u001b[0m\n",
       "\u001b[0;31mDocstring:\u001b[0m     \n",
       "``BETA`` Saves model checkpoints based on a monitored metric.\n",
       "\n",
       "Inherits from :class:`~lightning.pytorch.callbacks.ModelCheckpoint` and modifies the default\n",
       "behavior to save the full model state instead of just the state dict. This is necessary for\n",
       "compatibility with :class:`~scvi.model.base.BaseModelClass`.\n",
       "\n",
       "The best model save and best model score based on ``monitor`` can be accessed post-training\n",
       "with the ``best_model_path`` and ``best_model_score`` attributes, respectively.\n",
       "\n",
       "Known issues:\n",
       "\n",
       "* Does not set ``train_indices``, ``validation_indices``, and ``test_indices`` for checkpoints.\n",
       "* Does not set ``history`` for checkpoints. This can be accessed in the final model however.\n",
       "* Unsupported arguments: ``save_weights_only`` and ``save_last``.\n",
       "\n",
       "Parameters\n",
       "----------\n",
       "dirpath\n",
       "    Base directory to save the model checkpoints. If ``None``, defaults to a subdirectory in\n",
       "    :attr:``scvi.settings.logging_dir`` formatted with the current date, time, and monitor.\n",
       "filename\n",
       "    Name for the checkpoint directories, which can contain formatting options for auto-filling.\n",
       "    If ``None``, defaults to ``{epoch}-{step}-{monitor}``.\n",
       "monitor\n",
       "    Metric to monitor for checkpointing.\n",
       "load_best_on_end\n",
       "    If ``True``, loads the best model state into the model at the end of training.\n",
       "**kwargs\n",
       "    Additional keyword arguments passed into the constructor for\n",
       "    :class:`~lightning.pytorch.callbacks.ModelCheckpoint`.\n",
       "\u001b[0;31mFile:\u001b[0m           ~/miniconda3/envs/scanpy/lib/python3.12/site-packages/scvi/train/_callbacks.py\n",
       "\u001b[0;31mType:\u001b[0m           type\n",
       "\u001b[0;31mSubclasses:\u001b[0m     "
      ]
     },
     "metadata": {},
     "output_type": "display_data"
    }
   ],
   "source": [
    "?scvi.train.SaveCheckpoint"
   ]
  },
  {
   "cell_type": "code",
   "execution_count": 10,
   "id": "0fd0474d-9d9e-4aa9-b68f-2b59a4f2c540",
   "metadata": {},
   "outputs": [
    {
     "name": "stderr",
     "output_type": "stream",
     "text": [
      "/home/cstansbu/miniconda3/envs/scanpy/lib/python3.12/site-packages/lightning/fabric/plugins/environments/slurm.py:204: The `srun` command is available on your system but is not used. HINT: If your intention is to run Lightning on SLURM, prepend your python command with `srun` like so: srun python /home/cstansbu/miniconda3/envs/scanpy/lib/python3.12 ...\n",
      "GPU available: True (cuda), used: True\n",
      "TPU available: False, using: 0 TPU cores\n",
      "HPU available: False, using: 0 HPUs\n",
      "/home/cstansbu/miniconda3/envs/scanpy/lib/python3.12/site-packages/lightning/fabric/plugins/environments/slurm.py:204: The `srun` command is available on your system but is not used. HINT: If your intention is to run Lightning on SLURM, prepend your python command with `srun` like so: srun python /home/cstansbu/miniconda3/envs/scanpy/lib/python3.12 ...\n",
      "LOCAL_RANK: 0 - CUDA_VISIBLE_DEVICES: [MIG-847aa0ee-3fcc-58ba-8b00-ce2921c0a71c]\n",
      "/home/cstansbu/miniconda3/envs/scanpy/lib/python3.12/site-packages/torch/optim/lr_scheduler.py:60: UserWarning: The verbose parameter is deprecated. Please use get_last_lr() to access the learning rate.\n",
      "  warnings.warn(\n",
      "\n",
      "  | Name            | Type                | Params | Mode \n",
      "----------------------------------------------------------------\n",
      "0 | module          | VAE                 | 5.6 M  | eval \n",
      "1 | elbo_train      | CompositionalMetric | 0      | train\n",
      "2 | rec_loss_train  | ElboMetric          | 0      | train\n",
      "3 | kl_local_train  | ElboMetric          | 0      | train\n",
      "4 | kl_global_train | ElboMetric          | 0      | train\n",
      "5 | elbo_val        | CompositionalMetric | 0      | train\n",
      "6 | rec_loss_val    | ElboMetric          | 0      | train\n",
      "7 | kl_local_val    | ElboMetric          | 0      | train\n",
      "8 | kl_global_val   | ElboMetric          | 0      | train\n",
      "----------------------------------------------------------------\n",
      "5.6 M     Trainable params\n",
      "0         Non-trainable params\n",
      "5.6 M     Total params\n",
      "22.597    Total estimated model params size (MB)\n",
      "12        Modules in train mode\n",
      "42        Modules in eval mode\n",
      "/home/cstansbu/miniconda3/envs/scanpy/lib/python3.12/site-packages/lightning/pytorch/trainer/connectors/data_connector.py:424: The 'train_dataloader' does not have many workers which may be a bottleneck. Consider increasing the value of the `num_workers` argument` to `num_workers=23` in the `DataLoader` to improve performance.\n",
      "/home/cstansbu/miniconda3/envs/scanpy/lib/python3.12/site-packages/lightning/pytorch/trainer/connectors/data_connector.py:424: The 'val_dataloader' does not have many workers which may be a bottleneck. Consider increasing the value of the `num_workers` argument` to `num_workers=23` in the `DataLoader` to improve performance.\n"
     ]
    },
    {
     "data": {
      "application/vnd.jupyter.widget-view+json": {
       "model_id": "a574898e8d4b48bb83ba0bc272513042",
       "version_major": 2,
       "version_minor": 0
      },
      "text/plain": [
       "Training:   0%|          | 0/2 [00:00<?, ?it/s]"
      ]
     },
     "metadata": {},
     "output_type": "display_data"
    },
    {
     "name": "stderr",
     "output_type": "stream",
     "text": [
      "`Trainer.fit` stopped: `max_epochs=2` reached.\n"
     ]
    },
    {
     "name": "stdout",
     "output_type": "stream",
     "text": [
      "\u001b[34mINFO    \u001b[0m File                                                                                                      \n",
      "         \u001b[35m/home/cstansbu/git_repositories/scVI-trainer/notebooks/test/\u001b[0m\u001b[95mepoch\u001b[0m=\u001b[1;36m1\u001b[0m-\u001b[33mstep\u001b[0m=\u001b[1;36m66\u001b[0m-\u001b[33mvalidation_loss\u001b[0m=\u001b[1;36m8226\u001b[0m\u001b[1;36m.172851562\u001b[0m\n",
      "         \u001b[1;36m5\u001b[0m/model.pt already downloaded                                                                             \n"
     ]
    },
    {
     "name": "stderr",
     "output_type": "stream",
     "text": [
      "/home/cstansbu/miniconda3/envs/scanpy/lib/python3.12/site-packages/scvi/model/base/_save_load.py:76: FutureWarning: You are using `torch.load` with `weights_only=False` (the current default value), which uses the default pickle module implicitly. It is possible to construct malicious pickle data which will execute arbitrary code during unpickling (See https://github.com/pytorch/pytorch/blob/main/SECURITY.md#untrusted-models for more details). In a future release, the default value for `weights_only` will be flipped to `True`. This limits the functions that could be executed during unpickling. Arbitrary objects will no longer be allowed to be loaded via this mode unless they are explicitly allowlisted by the user via `torch.serialization.add_safe_globals`. We recommend you start setting `weights_only=True` for any use case where you don't have full control of the loaded file. Please open an issue on GitHub for any issues related to this experimental feature.\n",
      "  model = torch.load(model_path, map_location=map_location)\n"
     ]
    }
   ],
   "source": [
    "plan_kwargs = {\n",
    "      \"lr\": 0.001,\n",
    "      \"n_epochs_kl_warmup\": 10,\n",
    "      \"reduce_lr_on_plateau\": True,\n",
    "      \"lr_patience\": 8,\n",
    "      \"lr_factor\": 0.1,\n",
    "}\n",
    "\n",
    "checkpointer = scvi.train.SaveCheckpoint(\n",
    "    dirpath='./test/',\n",
    "    monitor='validation_loss',\n",
    "    load_best_on_end=True,\n",
    ")\n",
    "\n",
    "model.train(\n",
    "    max_epochs=2,\n",
    "    accelerator=\"gpu\",\n",
    "    devices=\"auto\",\n",
    "    enable_model_summary=True,\n",
    "    batch_size=2500,\n",
    "    load_sparse_tensor=True,\n",
    "    plan_kwargs=plan_kwargs,\n",
    "    early_stopping=True,\n",
    "    early_stopping_patience=5,\n",
    "    early_stopping_monitor='elbo_validation',\n",
    "    enable_checkpointing=True,\n",
    "    callbacks=[checkpointer],\n",
    ")"
   ]
  },
  {
   "cell_type": "code",
   "execution_count": null,
   "id": "34e7fd04-0793-4028-9ace-ffe878f97c5b",
   "metadata": {},
   "outputs": [],
   "source": [
    "break"
   ]
  },
  {
   "cell_type": "code",
   "execution_count": null,
   "id": "8dc8c17d-e03c-4ab8-9187-ae776520dff1",
   "metadata": {},
   "outputs": [],
   "source": []
  },
  {
   "cell_type": "code",
   "execution_count": null,
   "id": "cc4ac495-9249-48eb-a180-76dc23f4eea0",
   "metadata": {},
   "outputs": [],
   "source": []
  },
  {
   "cell_type": "code",
   "execution_count": null,
   "id": "700c0c74-b009-46b7-bcf4-05e89607c7d8",
   "metadata": {},
   "outputs": [],
   "source": []
  }
 ],
 "metadata": {
  "kernelspec": {
   "display_name": "scanpy",
   "language": "python",
   "name": "scanpy"
  },
  "language_info": {
   "codemirror_mode": {
    "name": "ipython",
    "version": 3
   },
   "file_extension": ".py",
   "mimetype": "text/x-python",
   "name": "python",
   "nbconvert_exporter": "python",
   "pygments_lexer": "ipython3",
   "version": "3.12.5"
  }
 },
 "nbformat": 4,
 "nbformat_minor": 5
}
